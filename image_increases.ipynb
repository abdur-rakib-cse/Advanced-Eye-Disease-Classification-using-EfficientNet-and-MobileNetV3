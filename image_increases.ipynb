{
  "nbformat": 4,
  "nbformat_minor": 0,
  "metadata": {
    "colab": {
      "provenance": []
    },
    "kernelspec": {
      "name": "python3",
      "display_name": "Python 3"
    },
    "language_info": {
      "name": "python"
    }
  },
  "cells": [
    {
      "cell_type": "code",
      "execution_count": null,
      "metadata": {
        "id": "I3Co4FkRJEaD"
      },
      "outputs": [],
      "source": []
    },
    {
      "cell_type": "code",
      "source": [
        "from google.colab import drive\n",
        "drive.mount('/content/drive')"
      ],
      "metadata": {
        "colab": {
          "base_uri": "https://localhost:8080/"
        },
        "id": "_SlszsTfJLe5",
        "outputId": "69491f94-6600-4799-ac5a-0689c1251e34"
      },
      "execution_count": 1,
      "outputs": [
        {
          "output_type": "stream",
          "name": "stdout",
          "text": [
            "Mounted at /content/drive\n"
          ]
        }
      ]
    },
    {
      "cell_type": "code",
      "source": [
        "from tensorflow.keras.preprocessing.image import ImageDataGenerator\n",
        "import matplotlib.pyplot as plt\n",
        "\n",
        "import os\n",
        "\n",
        "\n",
        "# Set your image directory path\n",
        "image_dir = '/content/drive/MyDrive/My Paper - Abdur Rakib 201-15-3651/retina_disease'\n",
        "\n",
        "# Create a directory for augmented images\n",
        "augmented_dir = '/content/drive/MyDrive/retina_disease_1024'\n",
        "os.makedirs(augmented_dir, exist_ok=True)\n",
        "\n",
        "# Define an instance of the ImageDataGenerator\n",
        "datagen = ImageDataGenerator(\n",
        "    rotation_range=40,\n",
        "    width_shift_range=0.2,\n",
        "    height_shift_range=0.2,\n",
        "    shear_range=0.2,\n",
        "    zoom_range=0.2,\n",
        "    horizontal_flip=True,\n",
        "    fill_mode='nearest'\n",
        ")\n",
        "\n",
        "# Generate and save augmented images\n",
        "generated_count = 0\n",
        "for filename in os.listdir(image_dir):\n",
        "    image_path = os.path.join(image_dir, filename)\n",
        "    if os.path.isfile(image_path):\n",
        "        img = plt.imread(image_path)\n",
        "        img = img.reshape((1,) + img.shape)  # reshape image\n",
        "\n",
        "        # this loops runs forever until we break, saving images to directory\n",
        "        for batch in datagen.flow(img, batch_size=1, save_to_dir=augmented_dir, save_prefix='aug', save_format='png'):\n",
        "            generated_count += 1\n",
        "            if generated_count >= (1024 - 100):\n",
        "                break\n",
        "\n",
        "        if generated_count >= (1024 - 100):\n",
        "            break\n",
        "\n",
        "print(f\"Generated {generated_count} augmented images.\")\n"
      ],
      "metadata": {
        "colab": {
          "base_uri": "https://localhost:8080/"
        },
        "id": "nDeC5Uj3Jk-5",
        "outputId": "fc2559c5-e9d3-4f8b-96e3-59db44cae166"
      },
      "execution_count": 4,
      "outputs": [
        {
          "output_type": "stream",
          "name": "stdout",
          "text": [
            "Generated 924 augmented images.\n"
          ]
        }
      ]
    }
  ]
}